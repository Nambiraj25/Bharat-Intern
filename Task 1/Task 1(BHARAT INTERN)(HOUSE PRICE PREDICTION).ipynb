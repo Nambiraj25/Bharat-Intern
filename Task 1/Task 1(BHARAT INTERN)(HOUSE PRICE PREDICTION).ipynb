{
 "cells": [
  {
   "cell_type": "code",
   "execution_count": 1,
   "id": "5b8e6b24-315f-4620-95fd-ddcd6eeab902",
   "metadata": {},
   "outputs": [
    {
     "data": {
      "text/html": [
       "<div>\n",
       "<style scoped>\n",
       "    .dataframe tbody tr th:only-of-type {\n",
       "        vertical-align: middle;\n",
       "    }\n",
       "\n",
       "    .dataframe tbody tr th {\n",
       "        vertical-align: top;\n",
       "    }\n",
       "\n",
       "    .dataframe thead th {\n",
       "        text-align: right;\n",
       "    }\n",
       "</style>\n",
       "<table border=\"1\" class=\"dataframe\">\n",
       "  <thead>\n",
       "    <tr style=\"text-align: right;\">\n",
       "      <th></th>\n",
       "      <th>area_type</th>\n",
       "      <th>availability</th>\n",
       "      <th>location</th>\n",
       "      <th>size</th>\n",
       "      <th>society</th>\n",
       "      <th>total_sqft</th>\n",
       "      <th>bath</th>\n",
       "      <th>balcony</th>\n",
       "      <th>price</th>\n",
       "    </tr>\n",
       "  </thead>\n",
       "  <tbody>\n",
       "    <tr>\n",
       "      <th>0</th>\n",
       "      <td>Super built-up  Area</td>\n",
       "      <td>19-Dec</td>\n",
       "      <td>Electronic City Phase II</td>\n",
       "      <td>2 BHK</td>\n",
       "      <td>Coomee</td>\n",
       "      <td>1056</td>\n",
       "      <td>2.0</td>\n",
       "      <td>1.0</td>\n",
       "      <td>39.07</td>\n",
       "    </tr>\n",
       "    <tr>\n",
       "      <th>1</th>\n",
       "      <td>Plot  Area</td>\n",
       "      <td>Ready To Move</td>\n",
       "      <td>Chikka Tirupathi</td>\n",
       "      <td>4 Bedroom</td>\n",
       "      <td>Theanmp</td>\n",
       "      <td>2600</td>\n",
       "      <td>5.0</td>\n",
       "      <td>3.0</td>\n",
       "      <td>120.00</td>\n",
       "    </tr>\n",
       "    <tr>\n",
       "      <th>2</th>\n",
       "      <td>Built-up  Area</td>\n",
       "      <td>Ready To Move</td>\n",
       "      <td>Uttarahalli</td>\n",
       "      <td>3 BHK</td>\n",
       "      <td>NaN</td>\n",
       "      <td>1440</td>\n",
       "      <td>2.0</td>\n",
       "      <td>3.0</td>\n",
       "      <td>62.00</td>\n",
       "    </tr>\n",
       "    <tr>\n",
       "      <th>3</th>\n",
       "      <td>Super built-up  Area</td>\n",
       "      <td>Ready To Move</td>\n",
       "      <td>Lingadheeranahalli</td>\n",
       "      <td>3 BHK</td>\n",
       "      <td>Soiewre</td>\n",
       "      <td>1521</td>\n",
       "      <td>3.0</td>\n",
       "      <td>1.0</td>\n",
       "      <td>95.00</td>\n",
       "    </tr>\n",
       "    <tr>\n",
       "      <th>4</th>\n",
       "      <td>Super built-up  Area</td>\n",
       "      <td>Ready To Move</td>\n",
       "      <td>Kothanur</td>\n",
       "      <td>2 BHK</td>\n",
       "      <td>NaN</td>\n",
       "      <td>1200</td>\n",
       "      <td>2.0</td>\n",
       "      <td>1.0</td>\n",
       "      <td>51.00</td>\n",
       "    </tr>\n",
       "  </tbody>\n",
       "</table>\n",
       "</div>"
      ],
      "text/plain": [
       "              area_type   availability                  location       size  \\\n",
       "0  Super built-up  Area         19-Dec  Electronic City Phase II      2 BHK   \n",
       "1            Plot  Area  Ready To Move          Chikka Tirupathi  4 Bedroom   \n",
       "2        Built-up  Area  Ready To Move               Uttarahalli      3 BHK   \n",
       "3  Super built-up  Area  Ready To Move        Lingadheeranahalli      3 BHK   \n",
       "4  Super built-up  Area  Ready To Move                  Kothanur      2 BHK   \n",
       "\n",
       "   society total_sqft  bath  balcony   price  \n",
       "0  Coomee        1056   2.0      1.0   39.07  \n",
       "1  Theanmp       2600   5.0      3.0  120.00  \n",
       "2      NaN       1440   2.0      3.0   62.00  \n",
       "3  Soiewre       1521   3.0      1.0   95.00  \n",
       "4      NaN       1200   2.0      1.0   51.00  "
      ]
     },
     "execution_count": 1,
     "metadata": {},
     "output_type": "execute_result"
    }
   ],
   "source": [
    "import pandas as pd\n",
    "df=pd.read_csv(\"Bengaluru_House_Data.csv\")\n",
    "df.head(5)"
   ]
  },
  {
   "cell_type": "code",
   "execution_count": 2,
   "id": "f2576ec9-4d13-4f6e-ab14-21110fcb04ec",
   "metadata": {},
   "outputs": [
    {
     "data": {
      "text/plain": [
       "area_type          0\n",
       "availability       0\n",
       "location           1\n",
       "size              16\n",
       "society         5502\n",
       "total_sqft         0\n",
       "bath              73\n",
       "balcony          609\n",
       "price              0\n",
       "dtype: int64"
      ]
     },
     "execution_count": 2,
     "metadata": {},
     "output_type": "execute_result"
    }
   ],
   "source": [
    "df.isnull().sum()"
   ]
  },
  {
   "cell_type": "code",
   "execution_count": 3,
   "id": "8b5554b5-c0b4-47ea-b1a6-09779e8e985e",
   "metadata": {},
   "outputs": [],
   "source": [
    "df.drop(['society','availability'],inplace=True,axis=1)"
   ]
  },
  {
   "cell_type": "code",
   "execution_count": 4,
   "id": "71a62683-f8db-42e1-8c85-6764b15ad36d",
   "metadata": {},
   "outputs": [
    {
     "data": {
      "text/html": [
       "<div>\n",
       "<style scoped>\n",
       "    .dataframe tbody tr th:only-of-type {\n",
       "        vertical-align: middle;\n",
       "    }\n",
       "\n",
       "    .dataframe tbody tr th {\n",
       "        vertical-align: top;\n",
       "    }\n",
       "\n",
       "    .dataframe thead th {\n",
       "        text-align: right;\n",
       "    }\n",
       "</style>\n",
       "<table border=\"1\" class=\"dataframe\">\n",
       "  <thead>\n",
       "    <tr style=\"text-align: right;\">\n",
       "      <th></th>\n",
       "      <th>area_type</th>\n",
       "      <th>location</th>\n",
       "      <th>size</th>\n",
       "      <th>total_sqft</th>\n",
       "      <th>bath</th>\n",
       "      <th>balcony</th>\n",
       "      <th>price</th>\n",
       "    </tr>\n",
       "  </thead>\n",
       "  <tbody>\n",
       "    <tr>\n",
       "      <th>0</th>\n",
       "      <td>Super built-up  Area</td>\n",
       "      <td>Electronic City Phase II</td>\n",
       "      <td>2 BHK</td>\n",
       "      <td>1056</td>\n",
       "      <td>2.0</td>\n",
       "      <td>1.0</td>\n",
       "      <td>39.07</td>\n",
       "    </tr>\n",
       "    <tr>\n",
       "      <th>1</th>\n",
       "      <td>Plot  Area</td>\n",
       "      <td>Chikka Tirupathi</td>\n",
       "      <td>4 Bedroom</td>\n",
       "      <td>2600</td>\n",
       "      <td>5.0</td>\n",
       "      <td>3.0</td>\n",
       "      <td>120.00</td>\n",
       "    </tr>\n",
       "    <tr>\n",
       "      <th>2</th>\n",
       "      <td>Built-up  Area</td>\n",
       "      <td>Uttarahalli</td>\n",
       "      <td>3 BHK</td>\n",
       "      <td>1440</td>\n",
       "      <td>2.0</td>\n",
       "      <td>3.0</td>\n",
       "      <td>62.00</td>\n",
       "    </tr>\n",
       "    <tr>\n",
       "      <th>3</th>\n",
       "      <td>Super built-up  Area</td>\n",
       "      <td>Lingadheeranahalli</td>\n",
       "      <td>3 BHK</td>\n",
       "      <td>1521</td>\n",
       "      <td>3.0</td>\n",
       "      <td>1.0</td>\n",
       "      <td>95.00</td>\n",
       "    </tr>\n",
       "    <tr>\n",
       "      <th>4</th>\n",
       "      <td>Super built-up  Area</td>\n",
       "      <td>Kothanur</td>\n",
       "      <td>2 BHK</td>\n",
       "      <td>1200</td>\n",
       "      <td>2.0</td>\n",
       "      <td>1.0</td>\n",
       "      <td>51.00</td>\n",
       "    </tr>\n",
       "  </tbody>\n",
       "</table>\n",
       "</div>"
      ],
      "text/plain": [
       "              area_type                  location       size total_sqft  bath  \\\n",
       "0  Super built-up  Area  Electronic City Phase II      2 BHK       1056   2.0   \n",
       "1            Plot  Area          Chikka Tirupathi  4 Bedroom       2600   5.0   \n",
       "2        Built-up  Area               Uttarahalli      3 BHK       1440   2.0   \n",
       "3  Super built-up  Area        Lingadheeranahalli      3 BHK       1521   3.0   \n",
       "4  Super built-up  Area                  Kothanur      2 BHK       1200   2.0   \n",
       "\n",
       "   balcony   price  \n",
       "0      1.0   39.07  \n",
       "1      3.0  120.00  \n",
       "2      3.0   62.00  \n",
       "3      1.0   95.00  \n",
       "4      1.0   51.00  "
      ]
     },
     "execution_count": 4,
     "metadata": {},
     "output_type": "execute_result"
    }
   ],
   "source": [
    "df.head()"
   ]
  },
  {
   "cell_type": "code",
   "execution_count": 5,
   "id": "498bc6b7-bc57-4ca3-af99-2335dc70e7eb",
   "metadata": {},
   "outputs": [
    {
     "data": {
      "text/plain": [
       "array(['2 BHK', '4 Bedroom', '3 BHK', '4 BHK', '6 Bedroom', '3 Bedroom',\n",
       "       '1 BHK', '1 RK', '1 Bedroom', '8 Bedroom', '2 Bedroom',\n",
       "       '7 Bedroom', '5 BHK', '7 BHK', '6 BHK', '5 Bedroom', '11 BHK',\n",
       "       '9 BHK', nan, '9 Bedroom', '27 BHK', '10 Bedroom', '11 Bedroom',\n",
       "       '10 BHK', '19 BHK', '16 BHK', '43 Bedroom', '14 BHK', '8 BHK',\n",
       "       '12 Bedroom', '13 BHK', '18 Bedroom'], dtype=object)"
      ]
     },
     "execution_count": 5,
     "metadata": {},
     "output_type": "execute_result"
    }
   ],
   "source": [
    "df['size'].unique()"
   ]
  },
  {
   "cell_type": "code",
   "execution_count": 6,
   "id": "dd1cc134-eae5-4e47-a934-13dcba9db192",
   "metadata": {},
   "outputs": [
    {
     "name": "stdout",
     "output_type": "stream",
     "text": [
      "<class 'pandas.core.frame.DataFrame'>\n",
      "RangeIndex: 13320 entries, 0 to 13319\n",
      "Data columns (total 7 columns):\n",
      " #   Column      Non-Null Count  Dtype  \n",
      "---  ------      --------------  -----  \n",
      " 0   area_type   13320 non-null  object \n",
      " 1   location    13319 non-null  object \n",
      " 2   size        13304 non-null  object \n",
      " 3   total_sqft  13320 non-null  object \n",
      " 4   bath        13247 non-null  float64\n",
      " 5   balcony     12711 non-null  float64\n",
      " 6   price       13320 non-null  float64\n",
      "dtypes: float64(3), object(4)\n",
      "memory usage: 728.6+ KB\n"
     ]
    }
   ],
   "source": [
    "df.info()"
   ]
  },
  {
   "cell_type": "code",
   "execution_count": 7,
   "id": "02c8d39d-39ef-4f44-88c7-9797f3d789fb",
   "metadata": {},
   "outputs": [
    {
     "data": {
      "text/html": [
       "<div>\n",
       "<style scoped>\n",
       "    .dataframe tbody tr th:only-of-type {\n",
       "        vertical-align: middle;\n",
       "    }\n",
       "\n",
       "    .dataframe tbody tr th {\n",
       "        vertical-align: top;\n",
       "    }\n",
       "\n",
       "    .dataframe thead th {\n",
       "        text-align: right;\n",
       "    }\n",
       "</style>\n",
       "<table border=\"1\" class=\"dataframe\">\n",
       "  <thead>\n",
       "    <tr style=\"text-align: right;\">\n",
       "      <th></th>\n",
       "      <th>area_type</th>\n",
       "      <th>location</th>\n",
       "      <th>size</th>\n",
       "      <th>total_sqft</th>\n",
       "    </tr>\n",
       "  </thead>\n",
       "  <tbody>\n",
       "    <tr>\n",
       "      <th>count</th>\n",
       "      <td>13320</td>\n",
       "      <td>13319</td>\n",
       "      <td>13304</td>\n",
       "      <td>13320</td>\n",
       "    </tr>\n",
       "    <tr>\n",
       "      <th>unique</th>\n",
       "      <td>4</td>\n",
       "      <td>1305</td>\n",
       "      <td>31</td>\n",
       "      <td>2117</td>\n",
       "    </tr>\n",
       "    <tr>\n",
       "      <th>top</th>\n",
       "      <td>Super built-up  Area</td>\n",
       "      <td>Whitefield</td>\n",
       "      <td>2 BHK</td>\n",
       "      <td>1200</td>\n",
       "    </tr>\n",
       "    <tr>\n",
       "      <th>freq</th>\n",
       "      <td>8790</td>\n",
       "      <td>540</td>\n",
       "      <td>5199</td>\n",
       "      <td>843</td>\n",
       "    </tr>\n",
       "  </tbody>\n",
       "</table>\n",
       "</div>"
      ],
      "text/plain": [
       "                   area_type    location   size total_sqft\n",
       "count                  13320       13319  13304      13320\n",
       "unique                     4        1305     31       2117\n",
       "top     Super built-up  Area  Whitefield  2 BHK       1200\n",
       "freq                    8790         540   5199        843"
      ]
     },
     "execution_count": 7,
     "metadata": {},
     "output_type": "execute_result"
    }
   ],
   "source": [
    "df.describe(include='O')"
   ]
  },
  {
   "cell_type": "code",
   "execution_count": 8,
   "id": "da7483bb-e6b4-4454-aa18-c128439f57bf",
   "metadata": {},
   "outputs": [],
   "source": [
    "df.dropna(axis=0,inplace=True)"
   ]
  },
  {
   "cell_type": "code",
   "execution_count": 9,
   "id": "7fd1e07d-cf40-44d3-beca-839774f18d6a",
   "metadata": {},
   "outputs": [
    {
     "data": {
      "text/plain": [
       "area_type     0\n",
       "location      0\n",
       "size          0\n",
       "total_sqft    0\n",
       "bath          0\n",
       "balcony       0\n",
       "price         0\n",
       "dtype: int64"
      ]
     },
     "execution_count": 9,
     "metadata": {},
     "output_type": "execute_result"
    }
   ],
   "source": [
    "df.isnull().sum()"
   ]
  },
  {
   "cell_type": "code",
   "execution_count": 10,
   "id": "a04f335e-5b5d-48ba-9a42-6bd53425c592",
   "metadata": {},
   "outputs": [],
   "source": [
    "df['BHK']=df['size'].apply(lambda x: int(x.split(' ')[0]))"
   ]
  },
  {
   "cell_type": "code",
   "execution_count": 11,
   "id": "41c6574c-8967-4995-993a-13be25c6e11a",
   "metadata": {},
   "outputs": [
    {
     "data": {
      "text/html": [
       "<div>\n",
       "<style scoped>\n",
       "    .dataframe tbody tr th:only-of-type {\n",
       "        vertical-align: middle;\n",
       "    }\n",
       "\n",
       "    .dataframe tbody tr th {\n",
       "        vertical-align: top;\n",
       "    }\n",
       "\n",
       "    .dataframe thead th {\n",
       "        text-align: right;\n",
       "    }\n",
       "</style>\n",
       "<table border=\"1\" class=\"dataframe\">\n",
       "  <thead>\n",
       "    <tr style=\"text-align: right;\">\n",
       "      <th></th>\n",
       "      <th>area_type</th>\n",
       "      <th>location</th>\n",
       "      <th>size</th>\n",
       "      <th>total_sqft</th>\n",
       "      <th>bath</th>\n",
       "      <th>balcony</th>\n",
       "      <th>price</th>\n",
       "      <th>BHK</th>\n",
       "    </tr>\n",
       "  </thead>\n",
       "  <tbody>\n",
       "    <tr>\n",
       "      <th>0</th>\n",
       "      <td>Super built-up  Area</td>\n",
       "      <td>Electronic City Phase II</td>\n",
       "      <td>2 BHK</td>\n",
       "      <td>1056</td>\n",
       "      <td>2.0</td>\n",
       "      <td>1.0</td>\n",
       "      <td>39.07</td>\n",
       "      <td>2</td>\n",
       "    </tr>\n",
       "    <tr>\n",
       "      <th>1</th>\n",
       "      <td>Plot  Area</td>\n",
       "      <td>Chikka Tirupathi</td>\n",
       "      <td>4 Bedroom</td>\n",
       "      <td>2600</td>\n",
       "      <td>5.0</td>\n",
       "      <td>3.0</td>\n",
       "      <td>120.00</td>\n",
       "      <td>4</td>\n",
       "    </tr>\n",
       "    <tr>\n",
       "      <th>2</th>\n",
       "      <td>Built-up  Area</td>\n",
       "      <td>Uttarahalli</td>\n",
       "      <td>3 BHK</td>\n",
       "      <td>1440</td>\n",
       "      <td>2.0</td>\n",
       "      <td>3.0</td>\n",
       "      <td>62.00</td>\n",
       "      <td>3</td>\n",
       "    </tr>\n",
       "    <tr>\n",
       "      <th>3</th>\n",
       "      <td>Super built-up  Area</td>\n",
       "      <td>Lingadheeranahalli</td>\n",
       "      <td>3 BHK</td>\n",
       "      <td>1521</td>\n",
       "      <td>3.0</td>\n",
       "      <td>1.0</td>\n",
       "      <td>95.00</td>\n",
       "      <td>3</td>\n",
       "    </tr>\n",
       "    <tr>\n",
       "      <th>4</th>\n",
       "      <td>Super built-up  Area</td>\n",
       "      <td>Kothanur</td>\n",
       "      <td>2 BHK</td>\n",
       "      <td>1200</td>\n",
       "      <td>2.0</td>\n",
       "      <td>1.0</td>\n",
       "      <td>51.00</td>\n",
       "      <td>2</td>\n",
       "    </tr>\n",
       "  </tbody>\n",
       "</table>\n",
       "</div>"
      ],
      "text/plain": [
       "              area_type                  location       size total_sqft  bath  \\\n",
       "0  Super built-up  Area  Electronic City Phase II      2 BHK       1056   2.0   \n",
       "1            Plot  Area          Chikka Tirupathi  4 Bedroom       2600   5.0   \n",
       "2        Built-up  Area               Uttarahalli      3 BHK       1440   2.0   \n",
       "3  Super built-up  Area        Lingadheeranahalli      3 BHK       1521   3.0   \n",
       "4  Super built-up  Area                  Kothanur      2 BHK       1200   2.0   \n",
       "\n",
       "   balcony   price  BHK  \n",
       "0      1.0   39.07    2  \n",
       "1      3.0  120.00    4  \n",
       "2      3.0   62.00    3  \n",
       "3      1.0   95.00    3  \n",
       "4      1.0   51.00    2  "
      ]
     },
     "execution_count": 11,
     "metadata": {},
     "output_type": "execute_result"
    }
   ],
   "source": [
    "df.head()"
   ]
  },
  {
   "cell_type": "code",
   "execution_count": 12,
   "id": "d7543658-2b31-4110-a406-9c8d1e8bdbdf",
   "metadata": {},
   "outputs": [],
   "source": [
    "df.drop([\"size\"],axis=1,inplace=True)"
   ]
  },
  {
   "cell_type": "code",
   "execution_count": 13,
   "id": "2948f594-c32e-4943-8796-569089bf59be",
   "metadata": {},
   "outputs": [
    {
     "data": {
      "text/plain": [
       "<Axes: ylabel='BHK'>"
      ]
     },
     "execution_count": 13,
     "metadata": {},
     "output_type": "execute_result"
    },
    {
     "data": {
      "image/png": "[encoded data removed]",
      "text/plain": [
       "<Figure size 640x480 with 1 Axes>"
      ]
     },
     "metadata": {},
     "output_type": "display_data"
    }
   ],
   "source": [
    "import seaborn as sns\n",
    "import matplotlib as plt\n",
    "sns.boxplot(y='BHK', data=df)"
   ]
  },
  {
   "cell_type": "code",
   "execution_count": 14,
   "id": "aecf6875-0990-4972-8380-8e9d59c03fb8",
   "metadata": {},
   "outputs": [],
   "source": [
    "def remove_outliers(col):\n",
    "    Q1=df[col].quantile(0.25)\n",
    "    Q3=df[col].quantile(0.75)\n",
    "    IQR=Q3-Q1\n",
    "    upper_lim=Q3+1.5*IQR\n",
    "    lower_lim=Q1-1.5*IQR\n",
    "    filter_data=df[ (df[col] >= lower_lim) & (df[col] <= upper_lim) ]\n",
    "    return filter_data"
   ]
  },
  {
   "cell_type": "code",
   "execution_count": 15,
   "id": "c69d62a3-d44d-4987-b42d-a13438777418",
   "metadata": {},
   "outputs": [],
   "source": [
    "df=remove_outliers('BHK')"
   ]
  },
  {
   "cell_type": "code",
   "execution_count": 16,
   "id": "26862cf0-e73a-4d20-ad5d-7dcf478063b2",
   "metadata": {},
   "outputs": [
    {
     "data": {
      "text/plain": [
       "<Axes: ylabel='BHK'>"
      ]
     },
     "execution_count": 16,
     "metadata": {},
     "output_type": "execute_result"
    },
    {
     "data": {
      "image/png": "[encoded data removed]",
      "text/plain": [
       "<Figure size 640x480 with 1 Axes>"
      ]
     },
     "metadata": {},
     "output_type": "display_data"
    }
   ],
   "source": [
    "sns.boxplot(y='BHK', data=df)"
   ]
  },
  {
   "cell_type": "code",
   "execution_count": 17,
   "id": "bcd313d2-d40c-4d26-bf00-cc2ab3a32183",
   "metadata": {},
   "outputs": [],
   "source": [
    "df['total_sqft'] = pd.to_numeric(df['total_sqft'], errors='coerce')"
   ]
  },
  {
   "cell_type": "code",
   "execution_count": 18,
   "id": "35f4fe25-22c9-427a-a9a0-5b065ba2b021",
   "metadata": {},
   "outputs": [
    {
     "data": {
      "text/plain": [
       "<Axes: ylabel='total_sqft'>"
      ]
     },
     "execution_count": 18,
     "metadata": {},
     "output_type": "execute_result"
    },
    {
     "data": {
      "image/png": "[encoded data removed]",
      "text/plain": [
       "<Figure size 640x480 with 1 Axes>"
      ]
     },
     "metadata": {},
     "output_type": "display_data"
    }
   ],
   "source": [
    "sns.boxplot(y='total_sqft', data=df)"
   ]
  },
  {
   "cell_type": "code",
   "execution_count": 19,
   "id": "f86e18bf-487e-4241-85f7-c5f006218339",
   "metadata": {},
   "outputs": [],
   "source": [
    "df=remove_outliers('total_sqft')"
   ]
  },
  {
   "cell_type": "code",
   "execution_count": 20,
   "id": "1d5d53a8-0b11-483b-a7f7-76411f95f2f5",
   "metadata": {},
   "outputs": [
    {
     "data": {
      "text/plain": [
       "<Axes: ylabel='total_sqft'>"
      ]
     },
     "execution_count": 20,
     "metadata": {},
     "output_type": "execute_result"
    },
    {
     "data": {
      "image/png": "[encoded data removed]",
      "text/plain": [
       "<Figure size 640x480 with 1 Axes>"
      ]
     },
     "metadata": {},
     "output_type": "display_data"
    }
   ],
   "source": [
    "sns.boxplot(y='total_sqft', data=df)"
   ]
  },
  {
   "cell_type": "code",
   "execution_count": 21,
   "id": "0df16286-43ea-4978-978e-79ba0491ffcd",
   "metadata": {},
   "outputs": [],
   "source": [
    "df=remove_outliers('total_sqft')"
   ]
  },
  {
   "cell_type": "code",
   "execution_count": 22,
   "id": "b79aae69-25ac-4acc-b75c-e805bf4d1d26",
   "metadata": {},
   "outputs": [
    {
     "data": {
      "text/plain": [
       "<Axes: ylabel='total_sqft'>"
      ]
     },
     "execution_count": 22,
     "metadata": {},
     "output_type": "execute_result"
    },
    {
     "data": {
      "image/png": "[encoded data removed]",
      "text/plain": [
       "<Figure size 640x480 with 1 Axes>"
      ]
     },
     "metadata": {},
     "output_type": "display_data"
    }
   ],
   "source": [
    "sns.boxplot(y='total_sqft', data=df)"
   ]
  },
  {
   "cell_type": "code",
   "execution_count": 23,
   "id": "7fdd4f5b-bcd6-484e-9254-dacc2fd3f7dc",
   "metadata": {},
   "outputs": [
    {
     "data": {
      "text/plain": [
       "<Axes: ylabel='bath'>"
      ]
     },
     "execution_count": 23,
     "metadata": {},
     "output_type": "execute_result"
    },
    {
     "data": {
      "image/png": "[encoded data removed]",
      "text/plain": [
       "<Figure size 640x480 with 1 Axes>"
      ]
     },
     "metadata": {},
     "output_type": "display_data"
    }
   ],
   "source": [
    "sns.boxplot(y='bath', data=df)"
   ]
  },
  {
   "cell_type": "code",
   "execution_count": 24,
   "id": "d4ccb6a2-bb9a-4f05-8eda-c4b81787687c",
   "metadata": {},
   "outputs": [],
   "source": [
    "df=remove_outliers('bath')"
   ]
  },
  {
   "cell_type": "code",
   "execution_count": 25,
   "id": "0e745e96-ddbd-4778-b520-d1ac12f13fa3",
   "metadata": {},
   "outputs": [
    {
     "data": {
      "text/plain": [
       "<Axes: ylabel='bath'>"
      ]
     },
     "execution_count": 25,
     "metadata": {},
     "output_type": "execute_result"
    },
    {
     "data": {
      "image/png": "[encoded data removed]",
      "text/plain": [
       "<Figure size 640x480 with 1 Axes>"
      ]
     },
     "metadata": {},
     "output_type": "display_data"
    }
   ],
   "source": [
    "sns.boxplot(y='bath', data=df)"
   ]
  },
  {
   "cell_type": "code",
   "execution_count": 26,
   "id": "5d09a3bd-26d0-4f8c-b973-78ebf45d3472",
   "metadata": {},
   "outputs": [
    {
     "name": "stderr",
     "output_type": "stream",
     "text": [
      "C:\\Users\\meena\\anaconda3\\envs\\deeplearning\\lib\\site-packages\\seaborn\\_oldcore.py:1119: FutureWarning: use_inf_as_na option is deprecated and will be removed in a future version. Convert inf values to NaN before operating instead.\n",
      "  with pd.option_context('mode.use_inf_as_na', True):\n"
     ]
    },
    {
     "data": {
      "text/plain": [
       "<Axes: xlabel='area_type', ylabel='Count'>"
      ]
     },
     "execution_count": 26,
     "metadata": {},
     "output_type": "execute_result"
    },
    {
     "data": {
      "image/png": "[encoded data removed]",
      "text/plain": [
       "<Figure size 640x480 with 1 Axes>"
      ]
     },
     "metadata": {},
     "output_type": "display_data"
    }
   ],
   "source": [
    "sns.histplot(x='area_type',data=df)\n"
   ]
  },
  {
   "cell_type": "code",
   "execution_count": 27,
   "id": "d2232038-11d7-49dd-9d6a-d4b83b65361b",
   "metadata": {},
   "outputs": [
    {
     "data": {
      "text/html": [
       "<div>\n",
       "<style scoped>\n",
       "    .dataframe tbody tr th:only-of-type {\n",
       "        vertical-align: middle;\n",
       "    }\n",
       "\n",
       "    .dataframe tbody tr th {\n",
       "        vertical-align: top;\n",
       "    }\n",
       "\n",
       "    .dataframe thead th {\n",
       "        text-align: right;\n",
       "    }\n",
       "</style>\n",
       "<table border=\"1\" class=\"dataframe\">\n",
       "  <thead>\n",
       "    <tr style=\"text-align: right;\">\n",
       "      <th></th>\n",
       "      <th>area_type</th>\n",
       "      <th>location</th>\n",
       "      <th>total_sqft</th>\n",
       "      <th>bath</th>\n",
       "      <th>balcony</th>\n",
       "      <th>price</th>\n",
       "      <th>BHK</th>\n",
       "    </tr>\n",
       "  </thead>\n",
       "  <tbody>\n",
       "    <tr>\n",
       "      <th>0</th>\n",
       "      <td>Super built-up  Area</td>\n",
       "      <td>Electronic City Phase II</td>\n",
       "      <td>1056.0</td>\n",
       "      <td>2.0</td>\n",
       "      <td>1.0</td>\n",
       "      <td>39.07</td>\n",
       "      <td>2</td>\n",
       "    </tr>\n",
       "    <tr>\n",
       "      <th>2</th>\n",
       "      <td>Built-up  Area</td>\n",
       "      <td>Uttarahalli</td>\n",
       "      <td>1440.0</td>\n",
       "      <td>2.0</td>\n",
       "      <td>3.0</td>\n",
       "      <td>62.00</td>\n",
       "      <td>3</td>\n",
       "    </tr>\n",
       "    <tr>\n",
       "      <th>3</th>\n",
       "      <td>Super built-up  Area</td>\n",
       "      <td>Lingadheeranahalli</td>\n",
       "      <td>1521.0</td>\n",
       "      <td>3.0</td>\n",
       "      <td>1.0</td>\n",
       "      <td>95.00</td>\n",
       "      <td>3</td>\n",
       "    </tr>\n",
       "    <tr>\n",
       "      <th>4</th>\n",
       "      <td>Super built-up  Area</td>\n",
       "      <td>Kothanur</td>\n",
       "      <td>1200.0</td>\n",
       "      <td>2.0</td>\n",
       "      <td>1.0</td>\n",
       "      <td>51.00</td>\n",
       "      <td>2</td>\n",
       "    </tr>\n",
       "    <tr>\n",
       "      <th>5</th>\n",
       "      <td>Super built-up  Area</td>\n",
       "      <td>Whitefield</td>\n",
       "      <td>1170.0</td>\n",
       "      <td>2.0</td>\n",
       "      <td>1.0</td>\n",
       "      <td>38.00</td>\n",
       "      <td>2</td>\n",
       "    </tr>\n",
       "  </tbody>\n",
       "</table>\n",
       "</div>"
      ],
      "text/plain": [
       "              area_type                  location  total_sqft  bath  balcony  \\\n",
       "0  Super built-up  Area  Electronic City Phase II      1056.0   2.0      1.0   \n",
       "2        Built-up  Area               Uttarahalli      1440.0   2.0      3.0   \n",
       "3  Super built-up  Area        Lingadheeranahalli      1521.0   3.0      1.0   \n",
       "4  Super built-up  Area                  Kothanur      1200.0   2.0      1.0   \n",
       "5  Super built-up  Area                Whitefield      1170.0   2.0      1.0   \n",
       "\n",
       "   price  BHK  \n",
       "0  39.07    2  \n",
       "2  62.00    3  \n",
       "3  95.00    3  \n",
       "4  51.00    2  \n",
       "5  38.00    2  "
      ]
     },
     "execution_count": 27,
     "metadata": {},
     "output_type": "execute_result"
    }
   ],
   "source": [
    "df.head()"
   ]
  },
  {
   "cell_type": "code",
   "execution_count": 28,
   "id": "1651c321-8af7-44c6-8e4f-305fd393abf0",
   "metadata": {},
   "outputs": [
    {
     "data": {
      "text/plain": [
       "<Axes: xlabel='total_sqft', ylabel='price'>"
      ]
     },
     "execution_count": 28,
     "metadata": {},
     "output_type": "execute_result"
    },
    {
     "data": {
      "image/png": "[encoded data removed]",
      "text/plain": [
       "<Figure size 640x480 with 1 Axes>"
      ]
     },
     "metadata": {},
     "output_type": "display_data"
    }
   ],
   "source": [
    "sns.scatterplot(x=\"total_sqft\",y=\"price\",data=df)"
   ]
  },
  {
   "cell_type": "code",
   "execution_count": 29,
   "id": "73bd2611-5bd3-4b97-871a-82b01bb1c3c8",
   "metadata": {},
   "outputs": [],
   "source": [
    "df1=pd.get_dummies(df,drop_first=True)"
   ]
  },
  {
   "cell_type": "code",
   "execution_count": 30,
   "id": "81a8a38a-b6f5-40ca-aede-9f51e8218c34",
   "metadata": {},
   "outputs": [
    {
     "data": {
      "text/html": [
       "<div>\n",
       "<style scoped>\n",
       "    .dataframe tbody tr th:only-of-type {\n",
       "        vertical-align: middle;\n",
       "    }\n",
       "\n",
       "    .dataframe tbody tr th {\n",
       "        vertical-align: top;\n",
       "    }\n",
       "\n",
       "    .dataframe thead th {\n",
       "        text-align: right;\n",
       "    }\n",
       "</style>\n",
       "<table border=\"1\" class=\"dataframe\">\n",
       "  <thead>\n",
       "    <tr style=\"text-align: right;\">\n",
       "      <th></th>\n",
       "      <th>total_sqft</th>\n",
       "      <th>bath</th>\n",
       "      <th>balcony</th>\n",
       "      <th>price</th>\n",
       "      <th>BHK</th>\n",
       "      <th>area_type_Carpet  Area</th>\n",
       "      <th>area_type_Plot  Area</th>\n",
       "      <th>area_type_Super built-up  Area</th>\n",
       "      <th>location_ Basavangudi</th>\n",
       "      <th>location_ Devarabeesana Halli</th>\n",
       "      <th>...</th>\n",
       "      <th>location_manyata tech park</th>\n",
       "      <th>location_mvj engineering college</th>\n",
       "      <th>location_poornaprajna layout</th>\n",
       "      <th>location_ravindra nagar, T.dasarahalli peenya</th>\n",
       "      <th>location_rr nagar</th>\n",
       "      <th>location_sankeswari</th>\n",
       "      <th>location_sapthagiri Layout</th>\n",
       "      <th>location_singapura paradise</th>\n",
       "      <th>location_tc.palya</th>\n",
       "      <th>location_whitefiled</th>\n",
       "    </tr>\n",
       "  </thead>\n",
       "  <tbody>\n",
       "    <tr>\n",
       "      <th>0</th>\n",
       "      <td>1056.0</td>\n",
       "      <td>2.0</td>\n",
       "      <td>1.0</td>\n",
       "      <td>39.07</td>\n",
       "      <td>2</td>\n",
       "      <td>False</td>\n",
       "      <td>False</td>\n",
       "      <td>True</td>\n",
       "      <td>False</td>\n",
       "      <td>False</td>\n",
       "      <td>...</td>\n",
       "      <td>False</td>\n",
       "      <td>False</td>\n",
       "      <td>False</td>\n",
       "      <td>False</td>\n",
       "      <td>False</td>\n",
       "      <td>False</td>\n",
       "      <td>False</td>\n",
       "      <td>False</td>\n",
       "      <td>False</td>\n",
       "      <td>False</td>\n",
       "    </tr>\n",
       "    <tr>\n",
       "      <th>2</th>\n",
       "      <td>1440.0</td>\n",
       "      <td>2.0</td>\n",
       "      <td>3.0</td>\n",
       "      <td>62.00</td>\n",
       "      <td>3</td>\n",
       "      <td>False</td>\n",
       "      <td>False</td>\n",
       "      <td>False</td>\n",
       "      <td>False</td>\n",
       "      <td>False</td>\n",
       "      <td>...</td>\n",
       "      <td>False</td>\n",
       "      <td>False</td>\n",
       "      <td>False</td>\n",
       "      <td>False</td>\n",
       "      <td>False</td>\n",
       "      <td>False</td>\n",
       "      <td>False</td>\n",
       "      <td>False</td>\n",
       "      <td>False</td>\n",
       "      <td>False</td>\n",
       "    </tr>\n",
       "    <tr>\n",
       "      <th>3</th>\n",
       "      <td>1521.0</td>\n",
       "      <td>3.0</td>\n",
       "      <td>1.0</td>\n",
       "      <td>95.00</td>\n",
       "      <td>3</td>\n",
       "      <td>False</td>\n",
       "      <td>False</td>\n",
       "      <td>True</td>\n",
       "      <td>False</td>\n",
       "      <td>False</td>\n",
       "      <td>...</td>\n",
       "      <td>False</td>\n",
       "      <td>False</td>\n",
       "      <td>False</td>\n",
       "      <td>False</td>\n",
       "      <td>False</td>\n",
       "      <td>False</td>\n",
       "      <td>False</td>\n",
       "      <td>False</td>\n",
       "      <td>False</td>\n",
       "      <td>False</td>\n",
       "    </tr>\n",
       "    <tr>\n",
       "      <th>4</th>\n",
       "      <td>1200.0</td>\n",
       "      <td>2.0</td>\n",
       "      <td>1.0</td>\n",
       "      <td>51.00</td>\n",
       "      <td>2</td>\n",
       "      <td>False</td>\n",
       "      <td>False</td>\n",
       "      <td>True</td>\n",
       "      <td>False</td>\n",
       "      <td>False</td>\n",
       "      <td>...</td>\n",
       "      <td>False</td>\n",
       "      <td>False</td>\n",
       "      <td>False</td>\n",
       "      <td>False</td>\n",
       "      <td>False</td>\n",
       "      <td>False</td>\n",
       "      <td>False</td>\n",
       "      <td>False</td>\n",
       "      <td>False</td>\n",
       "      <td>False</td>\n",
       "    </tr>\n",
       "    <tr>\n",
       "      <th>5</th>\n",
       "      <td>1170.0</td>\n",
       "      <td>2.0</td>\n",
       "      <td>1.0</td>\n",
       "      <td>38.00</td>\n",
       "      <td>2</td>\n",
       "      <td>False</td>\n",
       "      <td>False</td>\n",
       "      <td>True</td>\n",
       "      <td>False</td>\n",
       "      <td>False</td>\n",
       "      <td>...</td>\n",
       "      <td>False</td>\n",
       "      <td>False</td>\n",
       "      <td>False</td>\n",
       "      <td>False</td>\n",
       "      <td>False</td>\n",
       "      <td>False</td>\n",
       "      <td>False</td>\n",
       "      <td>False</td>\n",
       "      <td>False</td>\n",
       "      <td>False</td>\n",
       "    </tr>\n",
       "  </tbody>\n",
       "</table>\n",
       "<p>5 rows × 1105 columns</p>\n",
       "</div>"
      ],
      "text/plain": [
       "   total_sqft  bath  balcony  price  BHK  area_type_Carpet  Area  \\\n",
       "0      1056.0   2.0      1.0  39.07    2                   False   \n",
       "2      1440.0   2.0      3.0  62.00    3                   False   \n",
       "3      1521.0   3.0      1.0  95.00    3                   False   \n",
       "4      1200.0   2.0      1.0  51.00    2                   False   \n",
       "5      1170.0   2.0      1.0  38.00    2                   False   \n",
       "\n",
       "   area_type_Plot  Area  area_type_Super built-up  Area  \\\n",
       "0                 False                            True   \n",
       "2                 False                           False   \n",
       "3                 False                            True   \n",
       "4                 False                            True   \n",
       "5                 False                            True   \n",
       "\n",
       "   location_ Basavangudi  location_ Devarabeesana Halli  ...  \\\n",
       "0                  False                          False  ...   \n",
       "2                  False                          False  ...   \n",
       "3                  False                          False  ...   \n",
       "4                  False                          False  ...   \n",
       "5                  False                          False  ...   \n",
       "\n",
       "   location_manyata tech park  location_mvj engineering college  \\\n",
       "0                       False                             False   \n",
       "2                       False                             False   \n",
       "3                       False                             False   \n",
       "4                       False                             False   \n",
       "5                       False                             False   \n",
       "\n",
       "   location_poornaprajna layout  \\\n",
       "0                         False   \n",
       "2                         False   \n",
       "3                         False   \n",
       "4                         False   \n",
       "5                         False   \n",
       "\n",
       "   location_ravindra nagar, T.dasarahalli peenya  location_rr nagar  \\\n",
       "0                                          False              False   \n",
       "2                                          False              False   \n",
       "3                                          False              False   \n",
       "4                                          False              False   \n",
       "5                                          False              False   \n",
       "\n",
       "   location_sankeswari  location_sapthagiri Layout  \\\n",
       "0                False                       False   \n",
       "2                False                       False   \n",
       "3                False                       False   \n",
       "4                False                       False   \n",
       "5                False                       False   \n",
       "\n",
       "   location_singapura paradise  location_tc.palya  location_whitefiled  \n",
       "0                        False              False                False  \n",
       "2                        False              False                False  \n",
       "3                        False              False                False  \n",
       "4                        False              False                False  \n",
       "5                        False              False                False  \n",
       "\n",
       "[5 rows x 1105 columns]"
      ]
     },
     "execution_count": 30,
     "metadata": {},
     "output_type": "execute_result"
    }
   ],
   "source": [
    "df1.head()"
   ]
  },
  {
   "cell_type": "code",
   "execution_count": 31,
   "id": "16672cac-d2e1-4c11-8af6-7e4125d35eb3",
   "metadata": {},
   "outputs": [
    {
     "data": {
      "text/plain": [
       "(10491, 1105)"
      ]
     },
     "execution_count": 31,
     "metadata": {},
     "output_type": "execute_result"
    }
   ],
   "source": [
    "df1.shape\n"
   ]
  },
  {
   "cell_type": "code",
   "execution_count": 32,
   "id": "e777f655-27ae-4bd9-b2c5-004db9229ce8",
   "metadata": {},
   "outputs": [],
   "source": [
    "x=df1.drop(['price'],axis=1)\n",
    "y=df1['price'].values"
   ]
  },
  {
   "cell_type": "code",
   "execution_count": 33,
   "id": "94b6aa33-fac2-4f98-861d-194d248d6bae",
   "metadata": {},
   "outputs": [
    {
     "data": {
      "text/plain": [
       "(10491,)"
      ]
     },
     "execution_count": 33,
     "metadata": {},
     "output_type": "execute_result"
    }
   ],
   "source": [
    "y.shape"
   ]
  },
  {
   "cell_type": "code",
   "execution_count": 34,
   "id": "c2e47948-e682-442c-8a5c-bba16f80cf18",
   "metadata": {},
   "outputs": [],
   "source": [
    "from sklearn.model_selection import train_test_split\n",
    "x_train,x_dev,y_train,y_dev=train_test_split(x,y,test_size=0.4,random_state=42)\n",
    "x_test,x_val,y_test,y_val=train_test_split(x_dev,y_dev,test_size=0.5)"
   ]
  },
  {
   "cell_type": "code",
   "execution_count": 35,
   "id": "5c602747-a254-4112-b01e-b4b223e453e0",
   "metadata": {},
   "outputs": [
    {
     "data": {
      "text/plain": [
       "1104"
      ]
     },
     "execution_count": 35,
     "metadata": {},
     "output_type": "execute_result"
    }
   ],
   "source": [
    "x_train.shape[1]"
   ]
  },
  {
   "cell_type": "code",
   "execution_count": 36,
   "id": "24f7df81-b9c9-41b7-9be4-fce85b4b170e",
   "metadata": {},
   "outputs": [
    {
     "data": {
      "text/plain": [
       "(6294, 1)"
      ]
     },
     "execution_count": 36,
     "metadata": {},
     "output_type": "execute_result"
    }
   ],
   "source": [
    "y_train = y_train.reshape(-1, 1)\n",
    "y_test = y_test.reshape(-1, 1)\n",
    "y_val = y_val.reshape(-1, 1)\n",
    "y_train.shape"
   ]
  },
  {
   "cell_type": "code",
   "execution_count": 70,
   "id": "8fbd3f48-c924-4e71-86b3-0ff5b8950ecc",
   "metadata": {},
   "outputs": [
    {
     "name": "stdout",
     "output_type": "stream",
     "text": [
      "Model: \"model_7\"\n",
      "_________________________________________________________________\n",
      " Layer (type)                Output Shape              Param #   \n",
      "=================================================================\n",
      " input_8 (InputLayer)        [(None, 1104)]            0         \n",
      "                                                                 \n",
      " dense_23 (Dense)            (None, 64)                70720     \n",
      "                                                                 \n",
      " dropout_13 (Dropout)        (None, 64)                0         \n",
      "                                                                 \n",
      " dense_24 (Dense)            (None, 32)                2080      \n",
      "                                                                 \n",
      " dropout_14 (Dropout)        (None, 32)                0         \n",
      "                                                                 \n",
      " dense_25 (Dense)            (None, 1)                 33        \n",
      "                                                                 \n",
      "=================================================================\n",
      "Total params: 72,833\n",
      "Trainable params: 72,833\n",
      "Non-trainable params: 0\n",
      "_________________________________________________________________\n"
     ]
    }
   ],
   "source": [
    "import tensorflow as tf\n",
    "input=tf.keras.layers.Input(shape=(x_train.shape[1],))\n",
    "dense_1=tf.keras.layers.Dense(64,activation=\"relu\")(input)\n",
    "drop_out_1=tf.keras.layers.Dropout(0.8)(dense_1)\n",
    "dense_2=tf.keras.layers.Dense(32,activation=\"relu\")(drop_out_1)\n",
    "drop_out_2=tf.keras.layers.Dropout(0.5)(dense_2)\n",
    "output=tf.keras.layers.Dense(1,activation=\"relu\")(drop_out_2)\n",
    "model=tf.keras.models.Model(inputs=input,outputs=output)\n",
    "model.summary()"
   ]
  },
  {
   "cell_type": "code",
   "execution_count": 71,
   "id": "e2e29d14-b6c8-4d07-87c1-f8c52a851f40",
   "metadata": {},
   "outputs": [],
   "source": [
    "model.compile(loss='mse',optimizer=tf.optimizers.Adam(),metrics=['mae'])"
   ]
  },
  {
   "cell_type": "code",
   "execution_count": 72,
   "id": "9220e5c3-042d-4f3d-8069-52196cd4ee30",
   "metadata": {},
   "outputs": [],
   "source": [
    "x_train = x_train.astype(float)\n",
    "y_train = y_train.astype(float)\n",
    "x_val = x_val.astype(float)\n",
    "y_val = y_val.astype(float)\n",
    "x_test=x_test.astype(float)\n",
    "y_test=y_test.astype(float)"
   ]
  },
  {
   "cell_type": "code",
   "execution_count": 73,
   "id": "8122559f-13f5-4c92-9daf-a3050885d02c",
   "metadata": {},
   "outputs": [
    {
     "name": "stdout",
     "output_type": "stream",
     "text": [
      "Epoch 1/150\n",
      "197/197 [==============================] - 1s 5ms/step - loss: 5730.6802 - mae: 58.3226 - val_loss: 3558.5520 - val_mae: 40.4955\n",
      "Epoch 2/150\n",
      "197/197 [==============================] - 1s 4ms/step - loss: 3449.5488 - mae: 40.5563 - val_loss: 3537.7327 - val_mae: 40.2574\n",
      "Epoch 3/150\n",
      "197/197 [==============================] - 1s 4ms/step - loss: 3049.5056 - mae: 37.6522 - val_loss: 3255.2498 - val_mae: 37.1686\n",
      "Epoch 4/150\n",
      "197/197 [==============================] - 1s 4ms/step - loss: 2836.4844 - mae: 35.9191 - val_loss: 3848.5540 - val_mae: 43.5422\n",
      "Epoch 5/150\n",
      "197/197 [==============================] - 1s 4ms/step - loss: 2824.8809 - mae: 35.4441 - val_loss: 3860.2573 - val_mae: 43.6537\n",
      "Epoch 6/150\n",
      "197/197 [==============================] - 1s 3ms/step - loss: 2774.4333 - mae: 35.4851 - val_loss: 3770.3438 - val_mae: 42.7053\n",
      "Epoch 7/150\n",
      "197/197 [==============================] - 1s 4ms/step - loss: 2745.3564 - mae: 34.4686 - val_loss: 3832.8025 - val_mae: 43.3225\n",
      "Epoch 8/150\n",
      "197/197 [==============================] - 1s 4ms/step - loss: 2662.2393 - mae: 34.4768 - val_loss: 4229.3379 - val_mae: 47.2357\n",
      "Epoch 9/150\n",
      "197/197 [==============================] - 1s 4ms/step - loss: 2582.7598 - mae: 33.4174 - val_loss: 4472.7544 - val_mae: 49.4916\n",
      "Epoch 10/150\n",
      "197/197 [==============================] - 1s 4ms/step - loss: 2597.4504 - mae: 33.7641 - val_loss: 4450.4541 - val_mae: 49.2664\n",
      "Epoch 11/150\n",
      "197/197 [==============================] - 1s 4ms/step - loss: 2620.3616 - mae: 33.9729 - val_loss: 4808.2505 - val_mae: 52.4541\n",
      "Epoch 12/150\n",
      "197/197 [==============================] - 1s 4ms/step - loss: 2554.3992 - mae: 33.0318 - val_loss: 4925.9980 - val_mae: 53.4273\n",
      "Epoch 13/150\n",
      "197/197 [==============================] - 1s 4ms/step - loss: 2602.8042 - mae: 33.1127 - val_loss: 4833.4224 - val_mae: 52.6311\n",
      "Epoch 14/150\n",
      "197/197 [==============================] - 1s 4ms/step - loss: 2506.0686 - mae: 33.1969 - val_loss: 5055.8315 - val_mae: 54.4692\n",
      "Epoch 15/150\n",
      "197/197 [==============================] - 1s 4ms/step - loss: 2469.8052 - mae: 32.8441 - val_loss: 5040.1719 - val_mae: 54.3698\n",
      "Epoch 16/150\n",
      "197/197 [==============================] - 1s 4ms/step - loss: 2488.1152 - mae: 32.2337 - val_loss: 4731.7393 - val_mae: 51.6125\n",
      "Epoch 17/150\n",
      "197/197 [==============================] - 1s 4ms/step - loss: 2473.2883 - mae: 32.4541 - val_loss: 5099.8530 - val_mae: 54.8220\n",
      "Epoch 18/150\n",
      "197/197 [==============================] - 1s 4ms/step - loss: 2453.7114 - mae: 32.1282 - val_loss: 4960.9468 - val_mae: 53.6146\n",
      "Epoch 19/150\n",
      "197/197 [==============================] - 1s 4ms/step - loss: 2461.5750 - mae: 32.2161 - val_loss: 5045.8481 - val_mae: 54.3593\n",
      "Epoch 20/150\n",
      "197/197 [==============================] - 1s 4ms/step - loss: 2436.9253 - mae: 32.3607 - val_loss: 4935.2397 - val_mae: 53.3631\n",
      "Epoch 21/150\n",
      "197/197 [==============================] - 1s 4ms/step - loss: 2340.2410 - mae: 31.3498 - val_loss: 4855.4033 - val_mae: 52.7050\n",
      "Epoch 22/150\n",
      "197/197 [==============================] - 1s 4ms/step - loss: 2363.7002 - mae: 31.6837 - val_loss: 5178.3618 - val_mae: 55.3701\n",
      "Epoch 23/150\n",
      "197/197 [==============================] - 1s 4ms/step - loss: 2380.6267 - mae: 31.4643 - val_loss: 4979.1826 - val_mae: 53.6763\n",
      "Epoch 24/150\n",
      "197/197 [==============================] - 1s 4ms/step - loss: 2410.8691 - mae: 31.5752 - val_loss: 4876.8159 - val_mae: 52.7673\n",
      "Epoch 25/150\n",
      "197/197 [==============================] - 1s 4ms/step - loss: 2321.8782 - mae: 30.9708 - val_loss: 4607.9316 - val_mae: 50.4566\n",
      "Epoch 26/150\n",
      "197/197 [==============================] - 1s 4ms/step - loss: 2395.5344 - mae: 31.5941 - val_loss: 3988.1682 - val_mae: 44.5232\n",
      "Epoch 27/150\n",
      "197/197 [==============================] - 1s 4ms/step - loss: 2283.0774 - mae: 31.1315 - val_loss: 4559.6709 - val_mae: 49.9622\n",
      "Epoch 28/150\n",
      "197/197 [==============================] - 1s 4ms/step - loss: 2352.5027 - mae: 31.3124 - val_loss: 4674.5386 - val_mae: 50.9227\n",
      "Epoch 29/150\n",
      "197/197 [==============================] - 1s 4ms/step - loss: 2307.3752 - mae: 31.1209 - val_loss: 4761.0068 - val_mae: 51.7470\n",
      "Epoch 30/150\n",
      "197/197 [==============================] - 1s 4ms/step - loss: 2275.0935 - mae: 30.8859 - val_loss: 4998.4019 - val_mae: 53.7195\n",
      "Epoch 31/150\n",
      "197/197 [==============================] - 1s 4ms/step - loss: 2241.6006 - mae: 30.5431 - val_loss: 4452.9263 - val_mae: 48.9471\n",
      "Epoch 32/150\n",
      "197/197 [==============================] - 1s 4ms/step - loss: 2303.5513 - mae: 30.6470 - val_loss: 4864.7407 - val_mae: 52.5627\n",
      "Epoch 33/150\n",
      "197/197 [==============================] - 1s 4ms/step - loss: 2256.3909 - mae: 30.3267 - val_loss: 4839.2612 - val_mae: 52.3297\n",
      "Epoch 34/150\n",
      "197/197 [==============================] - 1s 4ms/step - loss: 2315.9441 - mae: 30.9900 - val_loss: 4628.4463 - val_mae: 50.4993\n",
      "Epoch 35/150\n",
      "197/197 [==============================] - 1s 4ms/step - loss: 2187.1609 - mae: 30.0983 - val_loss: 4387.4712 - val_mae: 48.2728\n",
      "Epoch 36/150\n",
      "197/197 [==============================] - 1s 4ms/step - loss: 2242.6946 - mae: 30.5187 - val_loss: 4590.6084 - val_mae: 50.0130\n",
      "Epoch 37/150\n",
      "197/197 [==============================] - 1s 4ms/step - loss: 2229.6045 - mae: 30.3256 - val_loss: 4321.0825 - val_mae: 47.7108\n",
      "Epoch 38/150\n",
      "197/197 [==============================] - 1s 4ms/step - loss: 2237.4917 - mae: 30.3672 - val_loss: 4532.9351 - val_mae: 49.5697\n",
      "Epoch 39/150\n",
      "197/197 [==============================] - 1s 4ms/step - loss: 2266.4563 - mae: 30.1318 - val_loss: 4270.0518 - val_mae: 47.1110\n",
      "Epoch 40/150\n",
      "197/197 [==============================] - 1s 4ms/step - loss: 2155.8159 - mae: 29.7084 - val_loss: 4464.9849 - val_mae: 48.9101\n",
      "Epoch 41/150\n",
      "197/197 [==============================] - 1s 4ms/step - loss: 2166.1882 - mae: 29.8831 - val_loss: 4921.6284 - val_mae: 52.8967\n",
      "Epoch 42/150\n",
      "197/197 [==============================] - 1s 4ms/step - loss: 2152.6885 - mae: 29.4623 - val_loss: 4224.3643 - val_mae: 46.6225\n",
      "Epoch 43/150\n",
      "197/197 [==============================] - 1s 4ms/step - loss: 2192.1357 - mae: 29.8072 - val_loss: 4487.3608 - val_mae: 49.0181\n",
      "Epoch 44/150\n",
      "197/197 [==============================] - 1s 4ms/step - loss: 2192.1345 - mae: 29.6861 - val_loss: 4312.0444 - val_mae: 47.4627\n",
      "Epoch 45/150\n",
      "197/197 [==============================] - 1s 4ms/step - loss: 2147.7664 - mae: 29.3341 - val_loss: 4475.2520 - val_mae: 48.8654\n",
      "Epoch 46/150\n",
      "197/197 [==============================] - 1s 4ms/step - loss: 2145.0095 - mae: 29.0452 - val_loss: 4289.6714 - val_mae: 47.1924\n",
      "Epoch 47/150\n",
      "197/197 [==============================] - 1s 4ms/step - loss: 2138.0408 - mae: 29.3827 - val_loss: 4103.8511 - val_mae: 45.3426\n",
      "Epoch 48/150\n",
      "197/197 [==============================] - 1s 4ms/step - loss: 2075.9707 - mae: 28.8084 - val_loss: 4310.8501 - val_mae: 47.3421\n",
      "Epoch 49/150\n",
      "197/197 [==============================] - 1s 4ms/step - loss: 2084.0989 - mae: 29.1092 - val_loss: 4161.8320 - val_mae: 45.9103\n",
      "Epoch 50/150\n",
      "197/197 [==============================] - 1s 4ms/step - loss: 2123.4280 - mae: 29.2884 - val_loss: 4030.3530 - val_mae: 44.6491\n",
      "Epoch 51/150\n",
      "197/197 [==============================] - 1s 4ms/step - loss: 2086.3728 - mae: 28.9394 - val_loss: 4209.5190 - val_mae: 46.2057\n",
      "Epoch 52/150\n",
      "197/197 [==============================] - 1s 4ms/step - loss: 2147.0872 - mae: 29.2782 - val_loss: 3831.5974 - val_mae: 42.7230\n",
      "Epoch 53/150\n",
      "197/197 [==============================] - 1s 4ms/step - loss: 2081.9360 - mae: 28.9206 - val_loss: 3649.3652 - val_mae: 40.8095\n",
      "Epoch 54/150\n",
      "197/197 [==============================] - 1s 4ms/step - loss: 2056.9712 - mae: 28.8152 - val_loss: 3625.5515 - val_mae: 40.5770\n",
      "Epoch 55/150\n",
      "197/197 [==============================] - 1s 4ms/step - loss: 2071.2090 - mae: 28.8571 - val_loss: 3928.4915 - val_mae: 43.3936\n",
      "Epoch 56/150\n",
      "197/197 [==============================] - 1s 4ms/step - loss: 2058.3286 - mae: 28.3735 - val_loss: 3644.2820 - val_mae: 40.7060\n",
      "Epoch 57/150\n",
      "197/197 [==============================] - 1s 4ms/step - loss: 2056.8323 - mae: 28.5106 - val_loss: 3533.4937 - val_mae: 39.7137\n",
      "Epoch 58/150\n",
      "197/197 [==============================] - 1s 4ms/step - loss: 2091.0652 - mae: 28.8115 - val_loss: 3777.1946 - val_mae: 41.9450\n",
      "Epoch 59/150\n",
      "197/197 [==============================] - 1s 4ms/step - loss: 2008.7360 - mae: 28.1245 - val_loss: 3434.8086 - val_mae: 38.6078\n",
      "Epoch 60/150\n",
      "197/197 [==============================] - 1s 4ms/step - loss: 2035.6018 - mae: 28.4724 - val_loss: 3554.5112 - val_mae: 39.5240\n",
      "Epoch 61/150\n",
      "197/197 [==============================] - 1s 4ms/step - loss: 2057.3638 - mae: 28.9406 - val_loss: 3627.4263 - val_mae: 39.3896\n",
      "Epoch 62/150\n",
      "197/197 [==============================] - 1s 4ms/step - loss: 2028.0409 - mae: 28.2331 - val_loss: 3497.8672 - val_mae: 38.6174\n",
      "Epoch 63/150\n",
      "197/197 [==============================] - 1s 4ms/step - loss: 1995.4453 - mae: 28.1232 - val_loss: 3548.0549 - val_mae: 38.8901\n",
      "Epoch 64/150\n",
      "197/197 [==============================] - 1s 4ms/step - loss: 2047.7831 - mae: 28.3762 - val_loss: 3691.2087 - val_mae: 39.9754\n",
      "Epoch 65/150\n",
      "197/197 [==============================] - 1s 4ms/step - loss: 2019.3610 - mae: 28.0640 - val_loss: 3317.4814 - val_mae: 36.1240\n",
      "Epoch 66/150\n",
      "197/197 [==============================] - 1s 4ms/step - loss: 1981.2655 - mae: 28.1846 - val_loss: 3198.4497 - val_mae: 35.3572\n",
      "Epoch 67/150\n",
      "197/197 [==============================] - 1s 3ms/step - loss: 1967.2893 - mae: 28.2334 - val_loss: 3521.7656 - val_mae: 38.3668\n",
      "Epoch 68/150\n",
      "197/197 [==============================] - 1s 4ms/step - loss: 1949.0137 - mae: 27.7359 - val_loss: 3285.3596 - val_mae: 36.0877\n",
      "Epoch 69/150\n",
      "197/197 [==============================] - 1s 4ms/step - loss: 1963.3807 - mae: 27.9523 - val_loss: 3304.4326 - val_mae: 36.3913\n",
      "Epoch 70/150\n",
      "197/197 [==============================] - 1s 4ms/step - loss: 1986.1071 - mae: 28.2385 - val_loss: 3463.5818 - val_mae: 37.4802\n",
      "Epoch 71/150\n",
      "197/197 [==============================] - 1s 4ms/step - loss: 2007.0786 - mae: 28.2936 - val_loss: 3516.4412 - val_mae: 37.8354\n",
      "Epoch 72/150\n",
      "197/197 [==============================] - 1s 4ms/step - loss: 1949.6221 - mae: 28.0986 - val_loss: 3321.2708 - val_mae: 35.9895\n",
      "Epoch 73/150\n",
      "197/197 [==============================] - 1s 4ms/step - loss: 1954.5181 - mae: 28.4075 - val_loss: 3366.8425 - val_mae: 36.1141\n",
      "Epoch 74/150\n",
      "197/197 [==============================] - 1s 4ms/step - loss: 2014.5648 - mae: 28.7088 - val_loss: 3508.8997 - val_mae: 37.4387\n",
      "Epoch 75/150\n",
      "197/197 [==============================] - 1s 4ms/step - loss: 2029.9285 - mae: 28.2177 - val_loss: 3268.7239 - val_mae: 35.4019\n",
      "Epoch 76/150\n",
      "197/197 [==============================] - 1s 3ms/step - loss: 2083.7581 - mae: 28.5515 - val_loss: 3196.5779 - val_mae: 34.6069\n",
      "Epoch 77/150\n",
      "197/197 [==============================] - 1s 4ms/step - loss: 2065.2041 - mae: 28.7517 - val_loss: 3249.9470 - val_mae: 35.1827\n",
      "Epoch 78/150\n",
      "197/197 [==============================] - 1s 4ms/step - loss: 2029.1079 - mae: 28.4946 - val_loss: 3427.6482 - val_mae: 36.8110\n",
      "Epoch 79/150\n",
      "197/197 [==============================] - 1s 4ms/step - loss: 2004.2957 - mae: 28.9821 - val_loss: 2968.3513 - val_mae: 33.0051\n",
      "Epoch 80/150\n",
      "197/197 [==============================] - 1s 4ms/step - loss: 2043.4015 - mae: 28.7276 - val_loss: 3071.1750 - val_mae: 33.8308\n",
      "Epoch 81/150\n",
      "197/197 [==============================] - 1s 4ms/step - loss: 2014.3472 - mae: 28.3689 - val_loss: 3128.0898 - val_mae: 34.4626\n",
      "Epoch 82/150\n",
      "197/197 [==============================] - 1s 3ms/step - loss: 2056.9292 - mae: 28.7252 - val_loss: 2943.8872 - val_mae: 32.8277\n",
      "Epoch 83/150\n",
      "197/197 [==============================] - 1s 4ms/step - loss: 2021.8856 - mae: 28.5055 - val_loss: 3086.1577 - val_mae: 33.9956\n",
      "Epoch 84/150\n",
      "197/197 [==============================] - 1s 4ms/step - loss: 2016.9656 - mae: 28.9861 - val_loss: 3046.2751 - val_mae: 33.7136\n",
      "Epoch 85/150\n",
      "197/197 [==============================] - 1s 4ms/step - loss: 2019.0289 - mae: 28.6727 - val_loss: 3109.3884 - val_mae: 34.3284\n",
      "Epoch 86/150\n",
      "197/197 [==============================] - 1s 4ms/step - loss: 2019.2350 - mae: 28.5878 - val_loss: 2946.0513 - val_mae: 32.9959\n",
      "Epoch 87/150\n",
      "197/197 [==============================] - 1s 4ms/step - loss: 2044.0745 - mae: 28.8524 - val_loss: 3078.1191 - val_mae: 34.2131\n",
      "Epoch 88/150\n",
      "197/197 [==============================] - 1s 4ms/step - loss: 1991.7040 - mae: 28.7861 - val_loss: 3151.7839 - val_mae: 34.4593\n",
      "Epoch 89/150\n",
      "197/197 [==============================] - 1s 4ms/step - loss: 2010.9137 - mae: 28.7778 - val_loss: 3153.5024 - val_mae: 34.7488\n",
      "Epoch 90/150\n",
      "197/197 [==============================] - 1s 4ms/step - loss: 2053.0774 - mae: 28.6774 - val_loss: 3079.5361 - val_mae: 33.8699\n",
      "Epoch 91/150\n",
      "197/197 [==============================] - 1s 4ms/step - loss: 2053.1052 - mae: 29.0750 - val_loss: 3102.9717 - val_mae: 34.3856\n",
      "Epoch 92/150\n",
      "197/197 [==============================] - 1s 4ms/step - loss: 2026.9967 - mae: 28.7316 - val_loss: 3159.0300 - val_mae: 34.8291\n",
      "Epoch 93/150\n",
      "197/197 [==============================] - 1s 4ms/step - loss: 2048.3645 - mae: 29.2040 - val_loss: 2854.3137 - val_mae: 32.4620\n",
      "Epoch 94/150\n",
      "197/197 [==============================] - 1s 4ms/step - loss: 2118.1284 - mae: 29.2916 - val_loss: 2876.8496 - val_mae: 32.6818\n",
      "Epoch 95/150\n",
      "197/197 [==============================] - 1s 4ms/step - loss: 2072.7310 - mae: 29.3839 - val_loss: 2796.3682 - val_mae: 32.1607\n",
      "Epoch 96/150\n",
      "197/197 [==============================] - 1s 4ms/step - loss: 2081.4592 - mae: 29.2305 - val_loss: 2499.9080 - val_mae: 30.4197\n",
      "Epoch 97/150\n",
      "197/197 [==============================] - 1s 4ms/step - loss: 2122.8479 - mae: 29.6296 - val_loss: 2502.1172 - val_mae: 30.3512\n",
      "Epoch 98/150\n",
      "197/197 [==============================] - 1s 4ms/step - loss: 2124.2141 - mae: 29.7525 - val_loss: 2520.2107 - val_mae: 30.6791\n",
      "Epoch 99/150\n",
      "197/197 [==============================] - 1s 4ms/step - loss: 2148.0093 - mae: 29.7670 - val_loss: 2450.9128 - val_mae: 29.9232\n",
      "Epoch 100/150\n",
      "197/197 [==============================] - 1s 4ms/step - loss: 2103.7542 - mae: 29.7184 - val_loss: 2459.7871 - val_mae: 29.9289\n",
      "Epoch 101/150\n",
      "197/197 [==============================] - 1s 4ms/step - loss: 2097.0737 - mae: 29.7013 - val_loss: 2503.6799 - val_mae: 30.4678\n",
      "Epoch 102/150\n",
      "197/197 [==============================] - 1s 4ms/step - loss: 2088.4084 - mae: 29.4784 - val_loss: 2428.8918 - val_mae: 29.5379\n",
      "Epoch 103/150\n",
      "197/197 [==============================] - 1s 4ms/step - loss: 2108.1411 - mae: 29.8267 - val_loss: 2577.8335 - val_mae: 31.0856\n",
      "Epoch 104/150\n",
      "197/197 [==============================] - 1s 4ms/step - loss: 2097.4016 - mae: 29.6507 - val_loss: 2581.2063 - val_mae: 30.9680\n",
      "Epoch 105/150\n",
      "197/197 [==============================] - 1s 4ms/step - loss: 2096.5642 - mae: 29.4151 - val_loss: 2578.3513 - val_mae: 30.8379\n",
      "Epoch 106/150\n",
      "197/197 [==============================] - 1s 4ms/step - loss: 2086.4485 - mae: 29.2877 - val_loss: 2533.0066 - val_mae: 30.5788\n",
      "Epoch 107/150\n",
      "197/197 [==============================] - 1s 4ms/step - loss: 2121.5718 - mae: 29.6943 - val_loss: 2555.4299 - val_mae: 30.4984\n",
      "Epoch 108/150\n",
      "197/197 [==============================] - 1s 4ms/step - loss: 2120.5269 - mae: 29.5653 - val_loss: 2381.1572 - val_mae: 28.7644\n",
      "Epoch 109/150\n",
      "197/197 [==============================] - 1s 4ms/step - loss: 2160.2656 - mae: 29.7482 - val_loss: 2536.8467 - val_mae: 30.7391\n",
      "Epoch 110/150\n",
      "197/197 [==============================] - 1s 4ms/step - loss: 2179.1941 - mae: 30.1907 - val_loss: 2580.8188 - val_mae: 31.1047\n",
      "Epoch 111/150\n",
      "197/197 [==============================] - 1s 4ms/step - loss: 2180.7473 - mae: 30.3718 - val_loss: 2576.1648 - val_mae: 31.2466\n",
      "Epoch 112/150\n",
      "197/197 [==============================] - 1s 4ms/step - loss: 2207.9041 - mae: 30.4095 - val_loss: 2584.1423 - val_mae: 31.2371\n",
      "Epoch 113/150\n",
      "197/197 [==============================] - 1s 4ms/step - loss: 2200.0808 - mae: 30.5587 - val_loss: 2622.2471 - val_mae: 31.6965\n",
      "Epoch 114/150\n",
      "197/197 [==============================] - 1s 4ms/step - loss: 2173.5276 - mae: 30.4312 - val_loss: 2566.9136 - val_mae: 31.0312\n",
      "Epoch 115/150\n",
      "197/197 [==============================] - 1s 4ms/step - loss: 2161.8296 - mae: 30.3121 - val_loss: 2662.9043 - val_mae: 32.1961\n",
      "Epoch 116/150\n",
      "197/197 [==============================] - 1s 3ms/step - loss: 2179.4570 - mae: 30.3503 - val_loss: 2656.6609 - val_mae: 32.2216\n",
      "Epoch 117/150\n",
      "197/197 [==============================] - 1s 4ms/step - loss: 2200.8169 - mae: 30.4552 - val_loss: 2569.6301 - val_mae: 31.0176\n",
      "Epoch 118/150\n",
      "197/197 [==============================] - 1s 4ms/step - loss: 2200.9512 - mae: 30.5008 - val_loss: 2609.8184 - val_mae: 31.4725\n",
      "Epoch 119/150\n",
      "197/197 [==============================] - 1s 4ms/step - loss: 2198.2466 - mae: 30.4696 - val_loss: 2686.6750 - val_mae: 32.3491\n",
      "Epoch 120/150\n",
      "197/197 [==============================] - 1s 4ms/step - loss: 2202.2549 - mae: 30.3426 - val_loss: 2492.1567 - val_mae: 29.7225\n",
      "Epoch 121/150\n",
      "197/197 [==============================] - 1s 4ms/step - loss: 2144.5554 - mae: 30.0544 - val_loss: 2570.1880 - val_mae: 30.9462\n",
      "Epoch 122/150\n",
      "197/197 [==============================] - 1s 4ms/step - loss: 2167.2693 - mae: 30.2724 - val_loss: 2714.6472 - val_mae: 32.9624\n",
      "Epoch 123/150\n",
      "197/197 [==============================] - 1s 4ms/step - loss: 2192.5972 - mae: 30.4382 - val_loss: 2699.9756 - val_mae: 32.6228\n",
      "Epoch 124/150\n",
      "197/197 [==============================] - 1s 4ms/step - loss: 2224.9307 - mae: 30.5194 - val_loss: 2425.9170 - val_mae: 30.8071\n",
      "Epoch 125/150\n",
      "197/197 [==============================] - 1s 4ms/step - loss: 2223.6592 - mae: 30.7145 - val_loss: 2701.7026 - val_mae: 32.8310\n",
      "Epoch 126/150\n",
      "197/197 [==============================] - 1s 4ms/step - loss: 2194.8118 - mae: 30.5400 - val_loss: 2493.9309 - val_mae: 29.9348\n",
      "Epoch 127/150\n",
      "197/197 [==============================] - 1s 4ms/step - loss: 2156.0039 - mae: 30.0711 - val_loss: 2543.4910 - val_mae: 30.8833\n",
      "Epoch 128/150\n",
      "197/197 [==============================] - 1s 4ms/step - loss: 2193.3259 - mae: 30.5339 - val_loss: 2463.3730 - val_mae: 29.5580\n",
      "Epoch 129/150\n",
      "197/197 [==============================] - 1s 4ms/step - loss: 2151.2915 - mae: 30.1294 - val_loss: 2689.8525 - val_mae: 32.6772\n",
      "Epoch 130/150\n",
      "197/197 [==============================] - 1s 4ms/step - loss: 2178.1216 - mae: 30.3225 - val_loss: 2515.2146 - val_mae: 30.2327\n",
      "Epoch 131/150\n",
      "197/197 [==============================] - 1s 4ms/step - loss: 2218.3538 - mae: 30.5484 - val_loss: 2344.6865 - val_mae: 30.3622\n",
      "Epoch 132/150\n",
      "197/197 [==============================] - 1s 4ms/step - loss: 2316.5022 - mae: 31.5323 - val_loss: 2333.1714 - val_mae: 30.5328\n",
      "Epoch 133/150\n",
      "197/197 [==============================] - 1s 4ms/step - loss: 2259.1543 - mae: 30.9895 - val_loss: 2328.5469 - val_mae: 30.6127\n",
      "Epoch 134/150\n",
      "197/197 [==============================] - 1s 4ms/step - loss: 2284.6152 - mae: 31.3276 - val_loss: 2331.2646 - val_mae: 30.5587\n",
      "Epoch 135/150\n",
      "197/197 [==============================] - 1s 4ms/step - loss: 2275.0889 - mae: 31.2179 - val_loss: 2326.2759 - val_mae: 30.6616\n",
      "Epoch 136/150\n",
      "197/197 [==============================] - 1s 4ms/step - loss: 2278.0217 - mae: 31.1131 - val_loss: 2330.2026 - val_mae: 30.5788\n",
      "Epoch 137/150\n",
      "197/197 [==============================] - 1s 4ms/step - loss: 2278.3328 - mae: 31.1801 - val_loss: 2325.1145 - val_mae: 30.6917\n",
      "Epoch 138/150\n",
      "197/197 [==============================] - 1s 5ms/step - loss: 2278.0605 - mae: 31.3623 - val_loss: 2329.6707 - val_mae: 30.5893\n",
      "Epoch 139/150\n",
      "197/197 [==============================] - 1s 4ms/step - loss: 2294.3965 - mae: 31.2173 - val_loss: 2330.5522 - val_mae: 30.5718\n",
      "Epoch 140/150\n",
      "197/197 [==============================] - 1s 4ms/step - loss: 2279.7578 - mae: 31.3018 - val_loss: 2326.7429 - val_mae: 30.6509\n",
      "Epoch 141/150\n",
      "197/197 [==============================] - 1s 4ms/step - loss: 2262.9236 - mae: 31.3070 - val_loss: 2326.3979 - val_mae: 30.6580\n",
      "Epoch 142/150\n",
      "197/197 [==============================] - 1s 4ms/step - loss: 2281.8228 - mae: 31.3141 - val_loss: 2326.6221 - val_mae: 30.6529\n",
      "Epoch 143/150\n",
      "197/197 [==============================] - 1s 4ms/step - loss: 2262.4319 - mae: 31.0858 - val_loss: 2327.3647 - val_mae: 30.6366\n",
      "Epoch 144/150\n",
      "197/197 [==============================] - 1s 4ms/step - loss: 2278.1931 - mae: 31.1345 - val_loss: 2327.3286 - val_mae: 30.6373\n",
      "Epoch 145/150\n",
      "197/197 [==============================] - 1s 4ms/step - loss: 2266.0354 - mae: 31.3414 - val_loss: 2328.0103 - val_mae: 30.6227\n",
      "Epoch 146/150\n",
      "197/197 [==============================] - 1s 4ms/step - loss: 2267.3416 - mae: 31.3281 - val_loss: 2328.1372 - val_mae: 30.6200\n",
      "Epoch 147/150\n",
      "197/197 [==============================] - 1s 4ms/step - loss: 2265.5417 - mae: 31.2853 - val_loss: 2328.7515 - val_mae: 30.6075\n",
      "Epoch 148/150\n",
      "197/197 [==============================] - 1s 4ms/step - loss: 2266.0203 - mae: 31.1496 - val_loss: 2330.6675 - val_mae: 30.5689\n",
      "Epoch 149/150\n",
      "197/197 [==============================] - 1s 4ms/step - loss: 2288.9211 - mae: 31.2623 - val_loss: 2331.0620 - val_mae: 30.5613\n",
      "Epoch 150/150\n",
      "197/197 [==============================] - 1s 4ms/step - loss: 2272.7559 - mae: 30.9474 - val_loss: 2327.7959 - val_mae: 30.6272\n"
     ]
    }
   ],
   "source": [
    "history=model.fit(x_train,y_train,epochs=150,validation_data=(x_val,y_val))"
   ]
  },
  {
   "cell_type": "code",
   "execution_count": 74,
   "id": "79f16332-c127-4cb1-a948-ba9f2e8c0d9f",
   "metadata": {},
   "outputs": [
    {
     "name": "stdout",
     "output_type": "stream",
     "text": [
      "66/66 [==============================] - 0s 3ms/step - loss: 1954.3513 - mae: 30.0061\n"
     ]
    },
    {
     "data": {
      "text/plain": [
       "[1954.351318359375, 30.006113052368164]"
      ]
     },
     "execution_count": 74,
     "metadata": {},
     "output_type": "execute_result"
    }
   ],
   "source": [
    "model.evaluate(x_test,y_test)"
   ]
  },
  {
   "cell_type": "code",
   "execution_count": 75,
   "id": "c41cc987-33a2-4fba-82f6-7ef2b0bfa0f7",
   "metadata": {},
   "outputs": [
    {
     "data": {
      "image/png": "[encoded data removed]",
      "text/plain": [
       "<Figure size 640x480 with 1 Axes>"
      ]
     },
     "metadata": {},
     "output_type": "display_data"
    },
    {
     "data": {
      "image/png": "[encoded data removed]",
      "text/plain": [
       "<Figure size 640x480 with 1 Axes>"
      ]
     },
     "metadata": {},
     "output_type": "display_data"
    }
   ],
   "source": [
    "import matplotlib.pyplot as plt\n",
    "\n",
    "def plot_graphs(history, string):\n",
    "  plt.plot(history.history[string])\n",
    "  plt.plot(history.history['val_'+string])\n",
    "  plt.xlabel(\"Epochs\")\n",
    "  plt.ylabel(string)\n",
    "  plt.legend([string, 'val_'+string])\n",
    "  plt.show()\n",
    "plot_graphs(history,'loss')\n",
    "plot_graphs(history,'mae')"
   ]
  },
  {
   "cell_type": "code",
   "execution_count": null,
   "id": "c6a3a7d6-47b8-4d7a-a73f-9d947c85ec86",
   "metadata": {},
   "outputs": [],
   "source": []
  }
 ],
 "metadata": {
  "kernelspec": {
   "display_name": "Python 3 (ipykernel)",
   "language": "python",
   "name": "python3"
  },
  "language_info": {
   "codemirror_mode": {
    "name": "ipython",
    "version": 3
   },
   "file_extension": ".py",
   "mimetype": "text/x-python",
   "name": "python",
   "nbconvert_exporter": "python",
   "pygments_lexer": "ipython3",
   "version": "3.10.13"
  }
 },
 "nbformat": 4,
 "nbformat_minor": 5
}
